{
 "cells": [
  {
   "cell_type": "markdown",
   "metadata": {},
   "source": [
    "# Getting Equity Derivatives Watch table from NSE India using Selenium and BeautifulSoup\n",
    "\n",
    "The goal of this project is to automate the process of exporting Equity Derivatives Watch table from NSE into excel/CSV. To do this, we will be using selenium and BeautifulSoup. The process is as follows:\n",
    "1. Use Selenium to visit NSE website and hover over the Live Market section. Then click on \"Equity Derivates\" option to see the table.\n",
    "2. Use BeautifulSoup to extract the table contents.\n",
    "3. Use Pandas to convert the contents of the table into a data frame.\n",
    "4. Export the final table into CSV.\n",
    "\n",
    "Desired Result:"
   ]
  },
  {
   "cell_type": "markdown",
   "metadata": {},
   "source": [
    "[![NSE-Table.png](https://i.postimg.cc/D0RP45SF/NSE-Table.png)](https://postimg.cc/H84yfw0P)"
   ]
  },
  {
   "cell_type": "markdown",
   "metadata": {},
   "source": [
    "### Importing necessary packages"
   ]
  },
  {
   "cell_type": "code",
   "execution_count": 1,
   "metadata": {},
   "outputs": [],
   "source": [
    "import pandas as pd\n",
    "\n",
    "from bs4 import BeautifulSoup\n",
    "from selenium import webdriver\n",
    "from selenium.webdriver.common.action_chains import ActionChains"
   ]
  },
  {
   "cell_type": "markdown",
   "metadata": {},
   "source": [
    "### Visiting NSE website"
   ]
  },
  {
   "cell_type": "code",
   "execution_count": 2,
   "metadata": {},
   "outputs": [],
   "source": [
    "url = \"https://www1.nseindia.com/\"\n",
    "\n",
    "#Set below Chrome options to prevent bot detection. For ChromeDriver version 79.0.3945.16 or over\n",
    "option = webdriver.ChromeOptions()\n",
    "option.add_argument('--disable-blink-features=AutomationControlled')\n",
    "option.add_argument(\"window-size=1280,800\")\n",
    "option.add_argument(\"user-agent=Mozilla/5.0 (Windows NT 10.0; Win64; x64) AppleWebKit/537.36 (KHTML, like Gecko) Chrome/88.0.4324.150 Safari/537.36\")\n",
    "\n",
    "driver = webdriver.Chrome(options=option)\n",
    "driver.get(url)\n",
    "import time\n",
    "time.sleep(5)"
   ]
  },
  {
   "cell_type": "markdown",
   "metadata": {},
   "source": [
    "### Hover over the Live Market section on NSE website"
   ]
  },
  {
   "cell_type": "code",
   "execution_count": 3,
   "metadata": {},
   "outputs": [],
   "source": [
    "action = ActionChains(driver)\n",
    "\n",
    "live_market_section = driver.find_element_by_xpath('//*[@id=\"main_livemkt\"]/a')\n",
    "action.move_to_element(live_market_section).perform()"
   ]
  },
  {
   "cell_type": "markdown",
   "metadata": {},
   "source": [
    "### Clicking on Equity Derivates option under Live Market"
   ]
  },
  {
   "cell_type": "code",
   "execution_count": 4,
   "metadata": {},
   "outputs": [],
   "source": [
    "equity_derivatives = driver.find_element_by_xpath('//*[@id=\"main_livewth_deri\"]/a')\n",
    "equity_derivatives.click()\n",
    "time.sleep(7)"
   ]
  },
  {
   "cell_type": "markdown",
   "metadata": {},
   "source": [
    "### Pushing HTML into BeautifulSoup"
   ]
  },
  {
   "cell_type": "code",
   "execution_count": 5,
   "metadata": {},
   "outputs": [],
   "source": [
    "html = driver.page_source\n",
    "soup = BeautifulSoup(html,'html.parser')\n",
    "#soup = BeautifulSoup(html,'lxml')\n",
    "#time.sleep(7)"
   ]
  },
  {
   "cell_type": "markdown",
   "metadata": {},
   "source": [
    "### Finding our table on the page"
   ]
  },
  {
   "cell_type": "code",
   "execution_count": 6,
   "metadata": {},
   "outputs": [],
   "source": [
    "result = soup.find('table',{'id': 'eqderivativesTable'})\n",
    "table_rows = result.find_all('tr')"
   ]
  },
  {
   "cell_type": "markdown",
   "metadata": {},
   "source": [
    "### Converting data into a Table using pandas "
   ]
  },
  {
   "cell_type": "code",
   "execution_count": 7,
   "metadata": {},
   "outputs": [
    {
     "output_type": "execute_result",
     "data": {
      "text/plain": [
       "   InstrumentType     Symbol   ExpiryDate OptionType Strike Price LastPrice  \\\n",
       "1   Index Options  BANKNIFTY  18-Feb-2021       Call    38,000.00    172.55   \n",
       "2   Index Options  BANKNIFTY  18-Feb-2021        Put    37,000.00    316.75   \n",
       "3   Index Options  BANKNIFTY  18-Feb-2021       Call    37,500.00    337.70   \n",
       "4   Index Options  BANKNIFTY  18-Feb-2021        Put    36,500.00    165.15   \n",
       "5   Index Options  BANKNIFTY  18-Feb-2021       Call    38,500.00     80.55   \n",
       "6   Index Options  BANKNIFTY  18-Feb-2021       Call    39,000.00     38.35   \n",
       "7   Index Options  BANKNIFTY  18-Feb-2021        Put    37,500.00    558.05   \n",
       "8   Index Options      NIFTY  18-Feb-2021       Call    15,400.00     87.35   \n",
       "9   Index Options      NIFTY  18-Feb-2021       Call    15,500.00     42.45   \n",
       "10  Index Options  BANKNIFTY  18-Feb-2021        Put    36,000.00     83.55   \n",
       "11  Index Options      NIFTY  18-Feb-2021        Put    15,300.00     54.45   \n",
       "12  Index Options  BANKNIFTY  18-Feb-2021       Call    37,600.00    297.80   \n",
       "13  Index Options  BANKNIFTY  18-Feb-2021       Call    37,700.00    261.10   \n",
       "14  Index Options      NIFTY  18-Feb-2021        Put    15,400.00     91.20   \n",
       "15  Index Options  BANKNIFTY  18-Feb-2021       Call    37,800.00    228.60   \n",
       "16  Index Options      NIFTY  18-Feb-2021       Call    15,600.00     16.35   \n",
       "17  Index Options  BANKNIFTY  18-Feb-2021        Put    37,300.00    450.95   \n",
       "18  Index Options  BANKNIFTY  18-Feb-2021        Put    35,500.00     44.60   \n",
       "19  Index Options  BANKNIFTY  18-Feb-2021        Put    35,000.00     26.80   \n",
       "20  Index Options      NIFTY  18-Feb-2021        Put    15,200.00     31.80   \n",
       "\n",
       "      Chng   %Chng Volume (Contracts Value (lakh) OpenInterest  \\\n",
       "1   -24.45  -12.41          4,07,426    26,037.33       48,182   \n",
       "2     2.25    0.72          3,82,190    26,093.43       35,876   \n",
       "3   -34.65   -9.31          2,63,506    30,307.28       38,253   \n",
       "4    -7.20   -4.18          2,40,866     8,585.44       36,854   \n",
       "5   -13.05  -13.94          2,31,011     7,712.68       32,066   \n",
       "6   -10.20  -21.01          2,30,912     3,834.68       31,902   \n",
       "7    34.25    6.54          2,05,792    23,565.35       16,883   \n",
       "8    26.05   42.50          1,96,245    13,588.74       38,782   \n",
       "9    13.20   45.13          1,70,400     5,991.42       38,484   \n",
       "10   -8.20   -8.94          1,68,272     2,937.27       40,380   \n",
       "11  -29.35  -35.02          1,56,980     6,426.13       34,753   \n",
       "12  -32.40   -9.81          1,50,555    15,761.53       14,976   \n",
       "13  -18.40   -6.58          1,49,713    14,066.95       17,150   \n",
       "14  -43.35  -32.22          1,49,048    10,100.58       24,050   \n",
       "15  -22.90   -9.11          1,36,353    11,211.93       14,572   \n",
       "16    4.25   35.12          1,28,441     1,795.12       36,140   \n",
       "17   16.85    3.88          1,24,104    12,196.68        9,844   \n",
       "18   -6.80  -13.23          1,20,162     1,096.13       29,708   \n",
       "19   -4.90  -15.46          1,19,379       669.75       35,695   \n",
       "20  -18.75  -37.09          1,09,502     2,655.93       38,479   \n",
       "\n",
       "   Underlying Value  \n",
       "1         37,267.60  \n",
       "2         37,267.60  \n",
       "3         37,267.60  \n",
       "4         37,267.60  \n",
       "5         37,267.60  \n",
       "6         37,267.60  \n",
       "7         37,267.60  \n",
       "8         15,387.20  \n",
       "9         15,387.20  \n",
       "10        37,267.60  \n",
       "11        15,387.20  \n",
       "12        37,267.60  \n",
       "13        37,267.60  \n",
       "14        15,387.20  \n",
       "15        37,267.60  \n",
       "16        15,387.20  \n",
       "17        37,267.60  \n",
       "18        37,267.60  \n",
       "19        37,267.60  \n",
       "20        15,387.20  "
      ],
      "text/html": "<div>\n<style scoped>\n    .dataframe tbody tr th:only-of-type {\n        vertical-align: middle;\n    }\n\n    .dataframe tbody tr th {\n        vertical-align: top;\n    }\n\n    .dataframe thead th {\n        text-align: right;\n    }\n</style>\n<table border=\"1\" class=\"dataframe\">\n  <thead>\n    <tr style=\"text-align: right;\">\n      <th></th>\n      <th>InstrumentType</th>\n      <th>Symbol</th>\n      <th>ExpiryDate</th>\n      <th>OptionType</th>\n      <th>Strike Price</th>\n      <th>LastPrice</th>\n      <th>Chng</th>\n      <th>%Chng</th>\n      <th>Volume (Contracts</th>\n      <th>Value (lakh)</th>\n      <th>OpenInterest</th>\n      <th>Underlying Value</th>\n    </tr>\n  </thead>\n  <tbody>\n    <tr>\n      <th>1</th>\n      <td>Index Options</td>\n      <td>BANKNIFTY</td>\n      <td>18-Feb-2021</td>\n      <td>Call</td>\n      <td>38,000.00</td>\n      <td>172.55</td>\n      <td>-24.45</td>\n      <td>-12.41</td>\n      <td>4,07,426</td>\n      <td>26,037.33</td>\n      <td>48,182</td>\n      <td>37,267.60</td>\n    </tr>\n    <tr>\n      <th>2</th>\n      <td>Index Options</td>\n      <td>BANKNIFTY</td>\n      <td>18-Feb-2021</td>\n      <td>Put</td>\n      <td>37,000.00</td>\n      <td>316.75</td>\n      <td>2.25</td>\n      <td>0.72</td>\n      <td>3,82,190</td>\n      <td>26,093.43</td>\n      <td>35,876</td>\n      <td>37,267.60</td>\n    </tr>\n    <tr>\n      <th>3</th>\n      <td>Index Options</td>\n      <td>BANKNIFTY</td>\n      <td>18-Feb-2021</td>\n      <td>Call</td>\n      <td>37,500.00</td>\n      <td>337.70</td>\n      <td>-34.65</td>\n      <td>-9.31</td>\n      <td>2,63,506</td>\n      <td>30,307.28</td>\n      <td>38,253</td>\n      <td>37,267.60</td>\n    </tr>\n    <tr>\n      <th>4</th>\n      <td>Index Options</td>\n      <td>BANKNIFTY</td>\n      <td>18-Feb-2021</td>\n      <td>Put</td>\n      <td>36,500.00</td>\n      <td>165.15</td>\n      <td>-7.20</td>\n      <td>-4.18</td>\n      <td>2,40,866</td>\n      <td>8,585.44</td>\n      <td>36,854</td>\n      <td>37,267.60</td>\n    </tr>\n    <tr>\n      <th>5</th>\n      <td>Index Options</td>\n      <td>BANKNIFTY</td>\n      <td>18-Feb-2021</td>\n      <td>Call</td>\n      <td>38,500.00</td>\n      <td>80.55</td>\n      <td>-13.05</td>\n      <td>-13.94</td>\n      <td>2,31,011</td>\n      <td>7,712.68</td>\n      <td>32,066</td>\n      <td>37,267.60</td>\n    </tr>\n    <tr>\n      <th>6</th>\n      <td>Index Options</td>\n      <td>BANKNIFTY</td>\n      <td>18-Feb-2021</td>\n      <td>Call</td>\n      <td>39,000.00</td>\n      <td>38.35</td>\n      <td>-10.20</td>\n      <td>-21.01</td>\n      <td>2,30,912</td>\n      <td>3,834.68</td>\n      <td>31,902</td>\n      <td>37,267.60</td>\n    </tr>\n    <tr>\n      <th>7</th>\n      <td>Index Options</td>\n      <td>BANKNIFTY</td>\n      <td>18-Feb-2021</td>\n      <td>Put</td>\n      <td>37,500.00</td>\n      <td>558.05</td>\n      <td>34.25</td>\n      <td>6.54</td>\n      <td>2,05,792</td>\n      <td>23,565.35</td>\n      <td>16,883</td>\n      <td>37,267.60</td>\n    </tr>\n    <tr>\n      <th>8</th>\n      <td>Index Options</td>\n      <td>NIFTY</td>\n      <td>18-Feb-2021</td>\n      <td>Call</td>\n      <td>15,400.00</td>\n      <td>87.35</td>\n      <td>26.05</td>\n      <td>42.50</td>\n      <td>1,96,245</td>\n      <td>13,588.74</td>\n      <td>38,782</td>\n      <td>15,387.20</td>\n    </tr>\n    <tr>\n      <th>9</th>\n      <td>Index Options</td>\n      <td>NIFTY</td>\n      <td>18-Feb-2021</td>\n      <td>Call</td>\n      <td>15,500.00</td>\n      <td>42.45</td>\n      <td>13.20</td>\n      <td>45.13</td>\n      <td>1,70,400</td>\n      <td>5,991.42</td>\n      <td>38,484</td>\n      <td>15,387.20</td>\n    </tr>\n    <tr>\n      <th>10</th>\n      <td>Index Options</td>\n      <td>BANKNIFTY</td>\n      <td>18-Feb-2021</td>\n      <td>Put</td>\n      <td>36,000.00</td>\n      <td>83.55</td>\n      <td>-8.20</td>\n      <td>-8.94</td>\n      <td>1,68,272</td>\n      <td>2,937.27</td>\n      <td>40,380</td>\n      <td>37,267.60</td>\n    </tr>\n    <tr>\n      <th>11</th>\n      <td>Index Options</td>\n      <td>NIFTY</td>\n      <td>18-Feb-2021</td>\n      <td>Put</td>\n      <td>15,300.00</td>\n      <td>54.45</td>\n      <td>-29.35</td>\n      <td>-35.02</td>\n      <td>1,56,980</td>\n      <td>6,426.13</td>\n      <td>34,753</td>\n      <td>15,387.20</td>\n    </tr>\n    <tr>\n      <th>12</th>\n      <td>Index Options</td>\n      <td>BANKNIFTY</td>\n      <td>18-Feb-2021</td>\n      <td>Call</td>\n      <td>37,600.00</td>\n      <td>297.80</td>\n      <td>-32.40</td>\n      <td>-9.81</td>\n      <td>1,50,555</td>\n      <td>15,761.53</td>\n      <td>14,976</td>\n      <td>37,267.60</td>\n    </tr>\n    <tr>\n      <th>13</th>\n      <td>Index Options</td>\n      <td>BANKNIFTY</td>\n      <td>18-Feb-2021</td>\n      <td>Call</td>\n      <td>37,700.00</td>\n      <td>261.10</td>\n      <td>-18.40</td>\n      <td>-6.58</td>\n      <td>1,49,713</td>\n      <td>14,066.95</td>\n      <td>17,150</td>\n      <td>37,267.60</td>\n    </tr>\n    <tr>\n      <th>14</th>\n      <td>Index Options</td>\n      <td>NIFTY</td>\n      <td>18-Feb-2021</td>\n      <td>Put</td>\n      <td>15,400.00</td>\n      <td>91.20</td>\n      <td>-43.35</td>\n      <td>-32.22</td>\n      <td>1,49,048</td>\n      <td>10,100.58</td>\n      <td>24,050</td>\n      <td>15,387.20</td>\n    </tr>\n    <tr>\n      <th>15</th>\n      <td>Index Options</td>\n      <td>BANKNIFTY</td>\n      <td>18-Feb-2021</td>\n      <td>Call</td>\n      <td>37,800.00</td>\n      <td>228.60</td>\n      <td>-22.90</td>\n      <td>-9.11</td>\n      <td>1,36,353</td>\n      <td>11,211.93</td>\n      <td>14,572</td>\n      <td>37,267.60</td>\n    </tr>\n    <tr>\n      <th>16</th>\n      <td>Index Options</td>\n      <td>NIFTY</td>\n      <td>18-Feb-2021</td>\n      <td>Call</td>\n      <td>15,600.00</td>\n      <td>16.35</td>\n      <td>4.25</td>\n      <td>35.12</td>\n      <td>1,28,441</td>\n      <td>1,795.12</td>\n      <td>36,140</td>\n      <td>15,387.20</td>\n    </tr>\n    <tr>\n      <th>17</th>\n      <td>Index Options</td>\n      <td>BANKNIFTY</td>\n      <td>18-Feb-2021</td>\n      <td>Put</td>\n      <td>37,300.00</td>\n      <td>450.95</td>\n      <td>16.85</td>\n      <td>3.88</td>\n      <td>1,24,104</td>\n      <td>12,196.68</td>\n      <td>9,844</td>\n      <td>37,267.60</td>\n    </tr>\n    <tr>\n      <th>18</th>\n      <td>Index Options</td>\n      <td>BANKNIFTY</td>\n      <td>18-Feb-2021</td>\n      <td>Put</td>\n      <td>35,500.00</td>\n      <td>44.60</td>\n      <td>-6.80</td>\n      <td>-13.23</td>\n      <td>1,20,162</td>\n      <td>1,096.13</td>\n      <td>29,708</td>\n      <td>37,267.60</td>\n    </tr>\n    <tr>\n      <th>19</th>\n      <td>Index Options</td>\n      <td>BANKNIFTY</td>\n      <td>18-Feb-2021</td>\n      <td>Put</td>\n      <td>35,000.00</td>\n      <td>26.80</td>\n      <td>-4.90</td>\n      <td>-15.46</td>\n      <td>1,19,379</td>\n      <td>669.75</td>\n      <td>35,695</td>\n      <td>37,267.60</td>\n    </tr>\n    <tr>\n      <th>20</th>\n      <td>Index Options</td>\n      <td>NIFTY</td>\n      <td>18-Feb-2021</td>\n      <td>Put</td>\n      <td>15,200.00</td>\n      <td>31.80</td>\n      <td>-18.75</td>\n      <td>-37.09</td>\n      <td>1,09,502</td>\n      <td>2,655.93</td>\n      <td>38,479</td>\n      <td>15,387.20</td>\n    </tr>\n  </tbody>\n</table>\n</div>"
     },
     "metadata": {},
     "execution_count": 7
    }
   ],
   "source": [
    "l = []\n",
    "\n",
    "for tr in table_rows:\n",
    "    td = tr.find_all('td')\n",
    "    row = [tr.text for tr in td]\n",
    "    l.append(row)\n",
    "    \n",
    "    \n",
    "# Creating the table using pandas\n",
    "equity_derivatives_table = pd.DataFrame(l, columns=[\"InstrumentType\",\"Symbol\",\"ExpiryDate\",\"OptionType\",\n",
    "                                 \"Strike Price\",\"LastPrice\",\"Chng\",\"%Chng\",\"Volume (Contracts\",\"Value (lakh)\",\n",
    "                                 \"OpenInterest\",\"Underlying Value\"])\n",
    "\n",
    "equity_derivatives_table = equity_derivatives_table.drop([0], axis=0)\n",
    "\n",
    "equity_derivatives_table"
   ]
  },
  {
   "source": [
    "### Exporting table into CSV"
   ],
   "cell_type": "code",
   "metadata": {},
   "execution_count": 8,
   "outputs": []
  },
  {
   "cell_type": "code",
   "execution_count": 9,
   "metadata": {},
   "outputs": [],
   "source": [
    "equity_derivatives_table.to_csv(\"Equity Derivatives Watch Table from NSE.csv\", index=0)"
   ]
  },
  {
   "source": [
    "There is an alternate (and easier) way to get the data using the request library and the final url of the table and then using pandas but I wanted to make use of selenium package."
   ],
   "cell_type": "markdown",
   "metadata": {}
  },
  {
   "source": [
    "### Close Chrome Browser"
   ],
   "cell_type": "markdown",
   "metadata": {}
  },
  {
   "cell_type": "code",
   "execution_count": 11,
   "metadata": {},
   "outputs": [],
   "source": [
    "driver.quit()"
   ]
  },
  {
   "cell_type": "markdown",
   "metadata": {},
   "source": [
    "Author: Amandeep Saluja"
   ]
  }
 ],
 "metadata": {
  "kernelspec": {
   "display_name": "Python 3",
   "language": "python",
   "name": "python3"
  },
  "language_info": {
   "codemirror_mode": {
    "name": "ipython",
    "version": 3
   },
   "file_extension": ".py",
   "mimetype": "text/x-python",
   "name": "python",
   "nbconvert_exporter": "python",
   "pygments_lexer": "ipython3",
   "version": "3.8.5-final"
  }
 },
 "nbformat": 4,
 "nbformat_minor": 2
}