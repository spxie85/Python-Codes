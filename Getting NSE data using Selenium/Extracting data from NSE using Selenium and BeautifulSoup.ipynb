{
 "cells": [
  {
   "cell_type": "markdown",
   "metadata": {},
   "source": [
    "# Getting Equity Derivatives Watch table from NSE India using Selenium and BeautifulSoup\n",
    "\n",
    "The goal of this project is to automate the process of exporting Equity Derivatives Watch table from NSE into excel/CSV. To do this, we will be using selenium and BeautifulSoup. The process is as follows:\n",
    "1. Use Selenium to visit NSE website and hover over the Live Market section. Then click on \"Equity Derivates\" option to see the table.\n",
    "2. Use BeautifulSoup to extract the table contents.\n",
    "3. Use Pandas to convert the contents of the table into a data frame.\n",
    "4. Export the final table into CSV.\n",
    "\n",
    "Desired Result:"
   ]
  },
  {
   "source": [
    "[![NSE-Table.png](https://i.postimg.cc/D0RP45SF/NSE-Table.png)](https://postimg.cc/H84yfw0P)"
   ],
   "cell_type": "markdown",
   "metadata": {}
  },
  {
   "cell_type": "markdown",
   "metadata": {},
   "source": [
    "### Importing necessary packages"
   ]
  },
  {
   "cell_type": "code",
   "execution_count": 1,
   "metadata": {},
   "outputs": [],
   "source": [
    "import pandas as pd\n",
    "\n",
    "from bs4 import BeautifulSoup\n",
    "from selenium import webdriver\n",
    "from selenium.webdriver.common.action_chains import ActionChains"
   ]
  },
  {
   "cell_type": "markdown",
   "metadata": {},
   "source": [
    "### Visiting NSE website"
   ]
  },
  {
   "cell_type": "code",
   "execution_count": 2,
   "metadata": {},
   "outputs": [],
   "source": [
    "url = \"https://www.nseindia.com/\"\n",
    "\n",
    "#Set below Chrome options to prevent bot detection. For ChromeDriver version 79.0.3945.16 or over\n",
    "option = webdriver.ChromeOptions()\n",
    "option.add_argument('--disable-blink-features=AutomationControlled')\n",
    "option.add_argument(\"window-size=1280,800\")\n",
    "option.add_argument(\"user-agent=Mozilla/5.0 (Windows NT 10.0; Win64; x64) AppleWebKit/537.36 (KHTML, like Gecko) Chrome/88.0.4324.150 Safari/537.36\")\n",
    "\n",
    "driver = webdriver.Chrome(options=option)\n",
    "driver.get(url)\n",
    "import time\n",
    "time.sleep(5)"
   ]
  },
  {
   "cell_type": "markdown",
   "metadata": {},
   "source": [
    "### Hover over the Live Market section on NSE website"
   ]
  },
  {
   "cell_type": "code",
   "execution_count": 3,
   "metadata": {},
   "outputs": [],
   "source": [
    "action = ActionChains(driver)\n",
    "\n",
    "live_market_section = driver.find_element_by_link_text('MARKET DATA')\n",
    "action.move_to_element(live_market_section).perform()"
   ]
  },
  {
   "cell_type": "markdown",
   "metadata": {},
   "source": [
    "### Clicking on Equity Derivates option under Live Market"
   ]
  },
  {
   "cell_type": "code",
   "execution_count": 4,
   "metadata": {},
   "outputs": [],
   "source": [
    "equity_derivatives = driver.find_element_by_link_text('Derivatives Market')\n",
    "equity_derivatives.click()\n",
    "time.sleep(7)"
   ]
  },
  {
   "cell_type": "markdown",
   "metadata": {},
   "source": [
    "### Pushing HTML into BeautifulSoup"
   ]
  },
  {
   "cell_type": "code",
   "execution_count": 5,
   "metadata": {},
   "outputs": [],
   "source": [
    "html = driver.page_source\n",
    "soup = BeautifulSoup(html,'html.parser')\n",
    "#soup = BeautifulSoup(html,'lxml')\n",
    "#time.sleep(7)"
   ]
  },
  {
   "cell_type": "markdown",
   "metadata": {},
   "source": [
    "### Finding our table on the page"
   ]
  },
  {
   "cell_type": "code",
   "execution_count": 6,
   "metadata": {},
   "outputs": [],
   "source": [
    "result = soup.find('table',{'id': 'eqderivativesTable'})\n",
    "table_rows = result.find_all('tr')"
   ]
  },
  {
   "cell_type": "markdown",
   "metadata": {},
   "source": [
    "### Converting data into a Table using pandas "
   ]
  },
  {
   "cell_type": "code",
   "execution_count": 7,
   "metadata": {},
   "outputs": [
    {
     "output_type": "execute_result",
     "data": {
      "text/plain": [
       "   InstrumentType     Symbol   ExpiryDate OptionType Strike Price LastPrice  \\\n",
       "1   Index Options  BANKNIFTY  18-Feb-2021       Call    38,000.00    203.05   \n",
       "2   Index Options  BANKNIFTY  18-Feb-2021        Put    37,000.00    231.10   \n",
       "3   Index Options  BANKNIFTY  18-Feb-2021       Call    37,500.00    391.05   \n",
       "4   Index Options  BANKNIFTY  18-Feb-2021        Put    36,500.00    112.65   \n",
       "5   Index Options  BANKNIFTY  18-Feb-2021       Call    38,500.00     95.00   \n",
       "6   Index Options  BANKNIFTY  18-Feb-2021       Call    39,000.00     44.70   \n",
       "7   Index Options  BANKNIFTY  18-Feb-2021        Put    37,500.00    442.35   \n",
       "8   Index Options      NIFTY  18-Feb-2021       Call    15,400.00     92.35   \n",
       "9   Index Options  BANKNIFTY  18-Feb-2021        Put    36,000.00     54.40   \n",
       "10  Index Options      NIFTY  18-Feb-2021       Call    15,500.00     45.60   \n",
       "11  Index Options      NIFTY  18-Feb-2021        Put    15,300.00     48.70   \n",
       "12  Index Options  BANKNIFTY  18-Feb-2021       Call    37,600.00    348.30   \n",
       "13  Index Options      NIFTY  18-Feb-2021        Put    15,400.00     83.70   \n",
       "14  Index Options  BANKNIFTY  18-Feb-2021       Call    37,700.00    305.90   \n",
       "15  Index Options  BANKNIFTY  18-Feb-2021       Call    37,800.00    267.80   \n",
       "16  Index Options  BANKNIFTY  18-Feb-2021        Put    37,300.00    345.85   \n",
       "17  Index Options  BANKNIFTY  18-Feb-2021        Put    35,000.00     19.20   \n",
       "18  Index Options      NIFTY  18-Feb-2021       Call    15,600.00     18.00   \n",
       "19  Index Options  BANKNIFTY  18-Feb-2021        Put    35,500.00     29.90   \n",
       "20  Index Options      NIFTY  18-Feb-2021        Put    15,200.00     28.25   \n",
       "\n",
       "      Chng   %Chng Volume (Contracts) Value (lakh) OpenInterest  \\\n",
       "1     6.05    3.07           4,78,481    29,593.55       52,686   \n",
       "2   -83.40  -26.52           4,70,938    31,733.24       40,558   \n",
       "3    18.70    5.02           3,22,316    36,028.87       42,272   \n",
       "4   -59.70  -34.64           2,89,871    10,162.41       41,178   \n",
       "5     1.40    1.50           2,65,138     8,518.29       34,607   \n",
       "6    -3.85   -7.93           2,60,265     4,164.20       30,804   \n",
       "7   -81.45  -15.55           2,35,600    27,153.25       16,993   \n",
       "8    31.05   50.65           2,26,180    15,647.77       40,320   \n",
       "9   -37.35  -40.71           2,05,617     3,524.03       41,445   \n",
       "10   16.35   55.90           1,97,723     6,849.59       38,341   \n",
       "11  -35.10  -41.89           1,80,007     7,291.56       36,458   \n",
       "12   18.10    5.48           1,74,780    17,870.21       15,569   \n",
       "13  -50.85  -37.79           1,71,699    11,566.84       26,262   \n",
       "14   26.40    9.45           1,71,213    15,668.24       17,454   \n",
       "15   16.30    6.48           1,62,183    12,931.40       16,066   \n",
       "16  -88.25  -20.33           1,53,733    15,016.00       12,796   \n",
       "17  -12.50  -39.43           1,47,370       825.40       37,345   \n",
       "18    5.90   48.76           1,44,759     2,013.01       36,983   \n",
       "19  -21.50  -41.83           1,43,527     1,298.15       31,069   \n",
       "20  -22.30  -44.11           1,25,170     3,008.79       39,505   \n",
       "\n",
       "   Underlying Value  \n",
       "1         37,431.75  \n",
       "2         37,431.75  \n",
       "3         37,431.75  \n",
       "4         37,431.75  \n",
       "5         37,431.75  \n",
       "6         37,431.75  \n",
       "7         37,431.75  \n",
       "8         15,411.20  \n",
       "9         37,431.75  \n",
       "10        15,411.20  \n",
       "11        15,411.20  \n",
       "12        37,431.75  \n",
       "13        15,411.20  \n",
       "14        37,431.75  \n",
       "15        37,431.75  \n",
       "16        37,431.75  \n",
       "17        37,431.75  \n",
       "18        15,411.20  \n",
       "19        37,431.75  \n",
       "20        15,411.20  "
      ],
      "text/html": "<div>\n<style scoped>\n    .dataframe tbody tr th:only-of-type {\n        vertical-align: middle;\n    }\n\n    .dataframe tbody tr th {\n        vertical-align: top;\n    }\n\n    .dataframe thead th {\n        text-align: right;\n    }\n</style>\n<table border=\"1\" class=\"dataframe\">\n  <thead>\n    <tr style=\"text-align: right;\">\n      <th></th>\n      <th>InstrumentType</th>\n      <th>Symbol</th>\n      <th>ExpiryDate</th>\n      <th>OptionType</th>\n      <th>Strike Price</th>\n      <th>LastPrice</th>\n      <th>Chng</th>\n      <th>%Chng</th>\n      <th>Volume (Contracts)</th>\n      <th>Value (lakh)</th>\n      <th>OpenInterest</th>\n      <th>Underlying Value</th>\n    </tr>\n  </thead>\n  <tbody>\n    <tr>\n      <th>1</th>\n      <td>Index Options</td>\n      <td>BANKNIFTY</td>\n      <td>18-Feb-2021</td>\n      <td>Call</td>\n      <td>38,000.00</td>\n      <td>203.05</td>\n      <td>6.05</td>\n      <td>3.07</td>\n      <td>4,78,481</td>\n      <td>29,593.55</td>\n      <td>52,686</td>\n      <td>37,431.75</td>\n    </tr>\n    <tr>\n      <th>2</th>\n      <td>Index Options</td>\n      <td>BANKNIFTY</td>\n      <td>18-Feb-2021</td>\n      <td>Put</td>\n      <td>37,000.00</td>\n      <td>231.10</td>\n      <td>-83.40</td>\n      <td>-26.52</td>\n      <td>4,70,938</td>\n      <td>31,733.24</td>\n      <td>40,558</td>\n      <td>37,431.75</td>\n    </tr>\n    <tr>\n      <th>3</th>\n      <td>Index Options</td>\n      <td>BANKNIFTY</td>\n      <td>18-Feb-2021</td>\n      <td>Call</td>\n      <td>37,500.00</td>\n      <td>391.05</td>\n      <td>18.70</td>\n      <td>5.02</td>\n      <td>3,22,316</td>\n      <td>36,028.87</td>\n      <td>42,272</td>\n      <td>37,431.75</td>\n    </tr>\n    <tr>\n      <th>4</th>\n      <td>Index Options</td>\n      <td>BANKNIFTY</td>\n      <td>18-Feb-2021</td>\n      <td>Put</td>\n      <td>36,500.00</td>\n      <td>112.65</td>\n      <td>-59.70</td>\n      <td>-34.64</td>\n      <td>2,89,871</td>\n      <td>10,162.41</td>\n      <td>41,178</td>\n      <td>37,431.75</td>\n    </tr>\n    <tr>\n      <th>5</th>\n      <td>Index Options</td>\n      <td>BANKNIFTY</td>\n      <td>18-Feb-2021</td>\n      <td>Call</td>\n      <td>38,500.00</td>\n      <td>95.00</td>\n      <td>1.40</td>\n      <td>1.50</td>\n      <td>2,65,138</td>\n      <td>8,518.29</td>\n      <td>34,607</td>\n      <td>37,431.75</td>\n    </tr>\n    <tr>\n      <th>6</th>\n      <td>Index Options</td>\n      <td>BANKNIFTY</td>\n      <td>18-Feb-2021</td>\n      <td>Call</td>\n      <td>39,000.00</td>\n      <td>44.70</td>\n      <td>-3.85</td>\n      <td>-7.93</td>\n      <td>2,60,265</td>\n      <td>4,164.20</td>\n      <td>30,804</td>\n      <td>37,431.75</td>\n    </tr>\n    <tr>\n      <th>7</th>\n      <td>Index Options</td>\n      <td>BANKNIFTY</td>\n      <td>18-Feb-2021</td>\n      <td>Put</td>\n      <td>37,500.00</td>\n      <td>442.35</td>\n      <td>-81.45</td>\n      <td>-15.55</td>\n      <td>2,35,600</td>\n      <td>27,153.25</td>\n      <td>16,993</td>\n      <td>37,431.75</td>\n    </tr>\n    <tr>\n      <th>8</th>\n      <td>Index Options</td>\n      <td>NIFTY</td>\n      <td>18-Feb-2021</td>\n      <td>Call</td>\n      <td>15,400.00</td>\n      <td>92.35</td>\n      <td>31.05</td>\n      <td>50.65</td>\n      <td>2,26,180</td>\n      <td>15,647.77</td>\n      <td>40,320</td>\n      <td>15,411.20</td>\n    </tr>\n    <tr>\n      <th>9</th>\n      <td>Index Options</td>\n      <td>BANKNIFTY</td>\n      <td>18-Feb-2021</td>\n      <td>Put</td>\n      <td>36,000.00</td>\n      <td>54.40</td>\n      <td>-37.35</td>\n      <td>-40.71</td>\n      <td>2,05,617</td>\n      <td>3,524.03</td>\n      <td>41,445</td>\n      <td>37,431.75</td>\n    </tr>\n    <tr>\n      <th>10</th>\n      <td>Index Options</td>\n      <td>NIFTY</td>\n      <td>18-Feb-2021</td>\n      <td>Call</td>\n      <td>15,500.00</td>\n      <td>45.60</td>\n      <td>16.35</td>\n      <td>55.90</td>\n      <td>1,97,723</td>\n      <td>6,849.59</td>\n      <td>38,341</td>\n      <td>15,411.20</td>\n    </tr>\n    <tr>\n      <th>11</th>\n      <td>Index Options</td>\n      <td>NIFTY</td>\n      <td>18-Feb-2021</td>\n      <td>Put</td>\n      <td>15,300.00</td>\n      <td>48.70</td>\n      <td>-35.10</td>\n      <td>-41.89</td>\n      <td>1,80,007</td>\n      <td>7,291.56</td>\n      <td>36,458</td>\n      <td>15,411.20</td>\n    </tr>\n    <tr>\n      <th>12</th>\n      <td>Index Options</td>\n      <td>BANKNIFTY</td>\n      <td>18-Feb-2021</td>\n      <td>Call</td>\n      <td>37,600.00</td>\n      <td>348.30</td>\n      <td>18.10</td>\n      <td>5.48</td>\n      <td>1,74,780</td>\n      <td>17,870.21</td>\n      <td>15,569</td>\n      <td>37,431.75</td>\n    </tr>\n    <tr>\n      <th>13</th>\n      <td>Index Options</td>\n      <td>NIFTY</td>\n      <td>18-Feb-2021</td>\n      <td>Put</td>\n      <td>15,400.00</td>\n      <td>83.70</td>\n      <td>-50.85</td>\n      <td>-37.79</td>\n      <td>1,71,699</td>\n      <td>11,566.84</td>\n      <td>26,262</td>\n      <td>15,411.20</td>\n    </tr>\n    <tr>\n      <th>14</th>\n      <td>Index Options</td>\n      <td>BANKNIFTY</td>\n      <td>18-Feb-2021</td>\n      <td>Call</td>\n      <td>37,700.00</td>\n      <td>305.90</td>\n      <td>26.40</td>\n      <td>9.45</td>\n      <td>1,71,213</td>\n      <td>15,668.24</td>\n      <td>17,454</td>\n      <td>37,431.75</td>\n    </tr>\n    <tr>\n      <th>15</th>\n      <td>Index Options</td>\n      <td>BANKNIFTY</td>\n      <td>18-Feb-2021</td>\n      <td>Call</td>\n      <td>37,800.00</td>\n      <td>267.80</td>\n      <td>16.30</td>\n      <td>6.48</td>\n      <td>1,62,183</td>\n      <td>12,931.40</td>\n      <td>16,066</td>\n      <td>37,431.75</td>\n    </tr>\n    <tr>\n      <th>16</th>\n      <td>Index Options</td>\n      <td>BANKNIFTY</td>\n      <td>18-Feb-2021</td>\n      <td>Put</td>\n      <td>37,300.00</td>\n      <td>345.85</td>\n      <td>-88.25</td>\n      <td>-20.33</td>\n      <td>1,53,733</td>\n      <td>15,016.00</td>\n      <td>12,796</td>\n      <td>37,431.75</td>\n    </tr>\n    <tr>\n      <th>17</th>\n      <td>Index Options</td>\n      <td>BANKNIFTY</td>\n      <td>18-Feb-2021</td>\n      <td>Put</td>\n      <td>35,000.00</td>\n      <td>19.20</td>\n      <td>-12.50</td>\n      <td>-39.43</td>\n      <td>1,47,370</td>\n      <td>825.40</td>\n      <td>37,345</td>\n      <td>37,431.75</td>\n    </tr>\n    <tr>\n      <th>18</th>\n      <td>Index Options</td>\n      <td>NIFTY</td>\n      <td>18-Feb-2021</td>\n      <td>Call</td>\n      <td>15,600.00</td>\n      <td>18.00</td>\n      <td>5.90</td>\n      <td>48.76</td>\n      <td>1,44,759</td>\n      <td>2,013.01</td>\n      <td>36,983</td>\n      <td>15,411.20</td>\n    </tr>\n    <tr>\n      <th>19</th>\n      <td>Index Options</td>\n      <td>BANKNIFTY</td>\n      <td>18-Feb-2021</td>\n      <td>Put</td>\n      <td>35,500.00</td>\n      <td>29.90</td>\n      <td>-21.50</td>\n      <td>-41.83</td>\n      <td>1,43,527</td>\n      <td>1,298.15</td>\n      <td>31,069</td>\n      <td>37,431.75</td>\n    </tr>\n    <tr>\n      <th>20</th>\n      <td>Index Options</td>\n      <td>NIFTY</td>\n      <td>18-Feb-2021</td>\n      <td>Put</td>\n      <td>15,200.00</td>\n      <td>28.25</td>\n      <td>-22.30</td>\n      <td>-44.11</td>\n      <td>1,25,170</td>\n      <td>3,008.79</td>\n      <td>39,505</td>\n      <td>15,411.20</td>\n    </tr>\n  </tbody>\n</table>\n</div>"
     },
     "metadata": {},
     "execution_count": 7
    }
   ],
   "source": [
    "l = []\n",
    "\n",
    "for tr in table_rows:\n",
    "    td = tr.find_all('td')\n",
    "    row = [tr.text for tr in td]\n",
    "    l.append(row)\n",
    "    \n",
    "    \n",
    "# Creating the table using pandas\n",
    "equity_derivatives_table = pd.DataFrame(l, columns=[\"InstrumentType\",\"Symbol\",\"ExpiryDate\",\"OptionType\",\n",
    "                                 \"Strike Price\",\"LastPrice\",\"Chng\",\"%Chng\",\"Volume (Contracts)\",\"Value (lakh)\",\n",
    "                                 \"OpenInterest\",\"Underlying Value\"])\n",
    "\n",
    "equity_derivatives_table = equity_derivatives_table.drop([0], axis=0)\n",
    "\n",
    "equity_derivatives_table"
   ]
  },
  {
   "source": [
    "### Exporting table into CSV"
   ],
   "cell_type": "markdown",
   "metadata": {}
  },
  {
   "cell_type": "code",
   "execution_count": 8,
   "metadata": {},
   "outputs": [],
   "source": [
    "equity_derivatives_table.to_csv(\"Equity Derivatives Watch Table from NSE.csv\", index=0)"
   ]
  },
  {
   "source": [
    "There is an alternate (and easier) way to get the data using the request library and the final url of the table and then using pandas but I wanted to make use of selenium package."
   ],
   "cell_type": "markdown",
   "metadata": {}
  },
  {
   "source": [
    "### Close Chrome Browser"
   ],
   "cell_type": "markdown",
   "metadata": {}
  },
  {
   "cell_type": "code",
   "execution_count": 9,
   "metadata": {},
   "outputs": [],
   "source": [
    "driver.quit()"
   ]
  },
  {
   "cell_type": "markdown",
   "metadata": {},
   "source": [
    "Author: Amandeep Saluja"
   ]
  }
 ],
 "metadata": {
  "kernelspec": {
   "display_name": "Python 3",
   "language": "python",
   "name": "python3"
  },
  "language_info": {
   "codemirror_mode": {
    "name": "ipython",
    "version": 3
   },
   "file_extension": ".py",
   "mimetype": "text/x-python",
   "name": "python",
   "nbconvert_exporter": "python",
   "pygments_lexer": "ipython3",
   "version": "3.8.5-final"
  }
 },
 "nbformat": 4,
 "nbformat_minor": 2
}