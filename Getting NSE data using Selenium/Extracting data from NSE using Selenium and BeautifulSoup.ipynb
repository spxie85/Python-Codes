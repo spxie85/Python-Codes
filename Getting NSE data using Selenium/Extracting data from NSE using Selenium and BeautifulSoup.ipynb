{
 "cells": [
  {
   "cell_type": "markdown",
   "metadata": {},
   "source": [
    "# Getting Equity Derivatives Watch table from NSE India using Selenium and BeautifulSoup\n",
    "\n",
    "The goal of this project is to automate the process of exporting Equity Derivatives Watch table from NSE into excel/CSV. To do this, we will be using selenium and BeautifulSoup. The process is as follows:\n",
    "1. Use Selenium to visit NSE website and hover over the Live Market section. Then click on \"Equity Derivates\" option to see the table.\n",
    "2. Use BeautifulSoup to extract the table contents.\n",
    "3. Use Pandas to convert the contents of the table into a data frame.\n",
    "4. Export the final table into CSV.\n",
    "\n",
    "Desired Result:"
   ]
  },
  {
   "cell_type": "markdown",
   "metadata": {},
   "source": [
    "[![NSE-Table.png](https://i.postimg.cc/D0RP45SF/NSE-Table.png)](https://postimg.cc/H84yfw0P)"
   ]
  },
  {
   "cell_type": "markdown",
   "metadata": {},
   "source": [
    "### Importing necessary packages"
   ]
  },
  {
   "cell_type": "code",
   "execution_count": 5,
   "metadata": {},
   "outputs": [],
   "source": [
    "import pandas as pd\n",
    "\n",
    "from bs4 import BeautifulSoup\n",
    "from selenium import webdriver\n",
    "from selenium.webdriver.common.action_chains import ActionChains"
   ]
  },
  {
   "cell_type": "markdown",
   "metadata": {},
   "source": [
    "### Visiting NSE website"
   ]
  },
  {
   "cell_type": "code",
   "execution_count": 21,
   "metadata": {},
   "outputs": [],
   "source": [
    "url = \"https://www1.nseindia.com/\"\n",
    "\n",
    "#Set below Chrome options to prevent bot detection. For ChromeDriver version 79.0.3945.16 or over\n",
    "option = webdriver.ChromeOptions()\n",
    "option.add_argument('--disable-blink-features=AutomationControlled')\n",
    "option.add_argument(\"window-size=1280,800\")\n",
    "option.add_argument(\"user-agent=Mozilla/5.0 (Windows NT 10.0; Win64; x64) AppleWebKit/537.36 (KHTML, like Gecko) Chrome/88.0.4324.150 Safari/537.36\")\n",
    "\n",
    "driver = webdriver.Chrome(options=option)\n",
    "driver.get(url)\n",
    "import time\n",
    "time.sleep(5)"
   ]
  },
  {
   "cell_type": "markdown",
   "metadata": {},
   "source": [
    "### Hover over the Live Market section on NSE website"
   ]
  },
  {
   "cell_type": "code",
   "execution_count": 22,
   "metadata": {},
   "outputs": [],
   "source": [
    "action = ActionChains(driver)\n",
    "\n",
    "live_market_section = driver.find_element_by_xpath('//*[@id=\"main_livemkt\"]/a')\n",
    "action.move_to_element(live_market_section).perform()"
   ]
  },
  {
   "cell_type": "markdown",
   "metadata": {},
   "source": [
    "### Clicking on Equity Derivates option under Live Market"
   ]
  },
  {
   "cell_type": "code",
   "execution_count": 23,
   "metadata": {},
   "outputs": [],
   "source": [
    "equity_derivatives = driver.find_element_by_xpath('//*[@id=\"main_livewth_deri\"]/a')\n",
    "equity_derivatives.click()"
   ]
  },
  {
   "cell_type": "markdown",
   "metadata": {},
   "source": [
    "### Pushing HTML into BeautifulSoup"
   ]
  },
  {
   "cell_type": "code",
   "execution_count": 24,
   "metadata": {},
   "outputs": [],
   "source": [
    "html = driver.page_source\n",
    "soup = BeautifulSoup(html,'html.parser')\n",
    "#soup = BeautifulSoup(html,'lxml')\n",
    "time.sleep(7)"
   ]
  },
  {
   "cell_type": "markdown",
   "metadata": {},
   "source": [
    "### Finding our table on the page"
   ]
  },
  {
   "cell_type": "code",
   "execution_count": 25,
   "metadata": {},
   "outputs": [],
   "source": [
    "result = soup.find('table',{'id': 'eqderivativesTable'})\n",
    "table_rows = result.find_all('tr')"
   ]
  },
  {
   "cell_type": "markdown",
   "metadata": {},
   "source": [
    "### Converting data into a Table using pandas "
   ]
  },
  {
   "cell_type": "code",
   "execution_count": 27,
   "metadata": {},
   "outputs": [
    {
     "output_type": "execute_result",
     "data": {
      "text/plain": [
       "   InstrumentType     Symbol   ExpiryDate OptionType Strike Price LastPrice  \\\n",
       "1   Index Options  BANKNIFTY  18-Feb-2021       Call    38,000.00    226.95   \n",
       "2   Index Options  BANKNIFTY  18-Feb-2021       Call    39,000.00     46.45   \n",
       "3   Index Options  BANKNIFTY  18-Feb-2021        Put    37,000.00    219.10   \n",
       "4   Index Options  BANKNIFTY  18-Feb-2021       Call    38,500.00    104.75   \n",
       "5   Index Options  BANKNIFTY  18-Feb-2021       Call    37,500.00    438.95   \n",
       "6   Index Options      NIFTY  18-Feb-2021       Call    15,400.00     96.20   \n",
       "7   Index Options      NIFTY  18-Feb-2021       Call    15,500.00     48.05   \n",
       "8   Index Options  BANKNIFTY  18-Feb-2021        Put    37,500.00    407.50   \n",
       "9   Index Options      NIFTY  18-Feb-2021        Put    15,300.00     51.50   \n",
       "10  Index Options  BANKNIFTY  18-Feb-2021        Put    36,500.00    111.80   \n",
       "11  Index Options  BANKNIFTY  18-Feb-2021       Call    37,700.00    343.05   \n",
       "12  Index Options  BANKNIFTY  18-Feb-2021       Call    37,600.00    385.55   \n",
       "13  Index Options      NIFTY  18-Feb-2021        Put    15,400.00     86.00   \n",
       "14  Index Options      NIFTY  18-Feb-2021       Call    15,600.00     18.75   \n",
       "15  Index Options  BANKNIFTY  18-Feb-2021        Put    36,000.00     57.40   \n",
       "16  Index Options  BANKNIFTY  18-Feb-2021       Call    37,800.00    298.40   \n",
       "17  Index Options  BANKNIFTY  18-Feb-2021        Put    35,500.00     32.20   \n",
       "18  Index Options      NIFTY  18-Feb-2021        Put    15,200.00     31.25   \n",
       "19  Index Options      NIFTY  18-Feb-2021       Call    15,700.00      6.15   \n",
       "20  Index Options      NIFTY  18-Feb-2021       Call    15,300.00    161.00   \n",
       "\n",
       "       Chng   %Chng Volume (Contracts Value (lakh) OpenInterest  \\\n",
       "1     29.95   15.20          2,15,309    17,295.18       39,829   \n",
       "2     -2.10   -4.33          1,45,879     2,996.17       40,391   \n",
       "3    -95.40  -30.33          1,38,174     7,507.95       38,247   \n",
       "4     11.15   11.91          1,35,892     5,705.05       31,417   \n",
       "5     66.60   17.89          1,31,093    18,431.70       27,307   \n",
       "6     34.90   56.93          1,16,031     8,398.35       30,490   \n",
       "7     18.80   64.27          1,04,049     3,826.10       36,658   \n",
       "8   -116.30  -22.20          1,00,171    10,143.00       19,417   \n",
       "9    -32.30  -38.54            91,066     3,653.53       33,115   \n",
       "10   -60.55  -35.13            90,389     2,489.13       35,100   \n",
       "11    63.55   22.74            83,936     9,455.17       15,721   \n",
       "12    55.35   16.76            82,612    10,410.21       13,301   \n",
       "13   -48.55  -36.08            81,506     5,418.85       24,632   \n",
       "14     6.65   54.96            80,684     1,211.83       35,083   \n",
       "15   -34.35  -37.44            80,496     1,104.56       40,227   \n",
       "16    46.90   18.65            71,876     7,292.99       13,467   \n",
       "17   -19.20  -37.35            67,267       516.76       30,278   \n",
       "18   -19.30  -38.18            63,628     1,512.62       38,548   \n",
       "19     1.60   35.16            58,513       290.54       29,112   \n",
       "20    51.45   46.96            55,959     6,664.63       17,953   \n",
       "\n",
       "   Underlying Value  \n",
       "1         37,531.95  \n",
       "2         37,531.95  \n",
       "3         37,531.95  \n",
       "4         37,531.95  \n",
       "5         37,531.95  \n",
       "6         15,413.40  \n",
       "7         15,413.40  \n",
       "8         37,531.95  \n",
       "9         15,413.40  \n",
       "10        37,531.95  \n",
       "11        37,531.95  \n",
       "12        37,531.95  \n",
       "13        15,413.40  \n",
       "14        15,413.40  \n",
       "15        37,531.95  \n",
       "16        37,531.95  \n",
       "17        37,531.95  \n",
       "18        15,413.40  \n",
       "19        15,413.40  \n",
       "20        15,413.40  "
      ],
      "text/html": "<div>\n<style scoped>\n    .dataframe tbody tr th:only-of-type {\n        vertical-align: middle;\n    }\n\n    .dataframe tbody tr th {\n        vertical-align: top;\n    }\n\n    .dataframe thead th {\n        text-align: right;\n    }\n</style>\n<table border=\"1\" class=\"dataframe\">\n  <thead>\n    <tr style=\"text-align: right;\">\n      <th></th>\n      <th>InstrumentType</th>\n      <th>Symbol</th>\n      <th>ExpiryDate</th>\n      <th>OptionType</th>\n      <th>Strike Price</th>\n      <th>LastPrice</th>\n      <th>Chng</th>\n      <th>%Chng</th>\n      <th>Volume (Contracts</th>\n      <th>Value (lakh)</th>\n      <th>OpenInterest</th>\n      <th>Underlying Value</th>\n    </tr>\n  </thead>\n  <tbody>\n    <tr>\n      <th>1</th>\n      <td>Index Options</td>\n      <td>BANKNIFTY</td>\n      <td>18-Feb-2021</td>\n      <td>Call</td>\n      <td>38,000.00</td>\n      <td>226.95</td>\n      <td>29.95</td>\n      <td>15.20</td>\n      <td>2,15,309</td>\n      <td>17,295.18</td>\n      <td>39,829</td>\n      <td>37,531.95</td>\n    </tr>\n    <tr>\n      <th>2</th>\n      <td>Index Options</td>\n      <td>BANKNIFTY</td>\n      <td>18-Feb-2021</td>\n      <td>Call</td>\n      <td>39,000.00</td>\n      <td>46.45</td>\n      <td>-2.10</td>\n      <td>-4.33</td>\n      <td>1,45,879</td>\n      <td>2,996.17</td>\n      <td>40,391</td>\n      <td>37,531.95</td>\n    </tr>\n    <tr>\n      <th>3</th>\n      <td>Index Options</td>\n      <td>BANKNIFTY</td>\n      <td>18-Feb-2021</td>\n      <td>Put</td>\n      <td>37,000.00</td>\n      <td>219.10</td>\n      <td>-95.40</td>\n      <td>-30.33</td>\n      <td>1,38,174</td>\n      <td>7,507.95</td>\n      <td>38,247</td>\n      <td>37,531.95</td>\n    </tr>\n    <tr>\n      <th>4</th>\n      <td>Index Options</td>\n      <td>BANKNIFTY</td>\n      <td>18-Feb-2021</td>\n      <td>Call</td>\n      <td>38,500.00</td>\n      <td>104.75</td>\n      <td>11.15</td>\n      <td>11.91</td>\n      <td>1,35,892</td>\n      <td>5,705.05</td>\n      <td>31,417</td>\n      <td>37,531.95</td>\n    </tr>\n    <tr>\n      <th>5</th>\n      <td>Index Options</td>\n      <td>BANKNIFTY</td>\n      <td>18-Feb-2021</td>\n      <td>Call</td>\n      <td>37,500.00</td>\n      <td>438.95</td>\n      <td>66.60</td>\n      <td>17.89</td>\n      <td>1,31,093</td>\n      <td>18,431.70</td>\n      <td>27,307</td>\n      <td>37,531.95</td>\n    </tr>\n    <tr>\n      <th>6</th>\n      <td>Index Options</td>\n      <td>NIFTY</td>\n      <td>18-Feb-2021</td>\n      <td>Call</td>\n      <td>15,400.00</td>\n      <td>96.20</td>\n      <td>34.90</td>\n      <td>56.93</td>\n      <td>1,16,031</td>\n      <td>8,398.35</td>\n      <td>30,490</td>\n      <td>15,413.40</td>\n    </tr>\n    <tr>\n      <th>7</th>\n      <td>Index Options</td>\n      <td>NIFTY</td>\n      <td>18-Feb-2021</td>\n      <td>Call</td>\n      <td>15,500.00</td>\n      <td>48.05</td>\n      <td>18.80</td>\n      <td>64.27</td>\n      <td>1,04,049</td>\n      <td>3,826.10</td>\n      <td>36,658</td>\n      <td>15,413.40</td>\n    </tr>\n    <tr>\n      <th>8</th>\n      <td>Index Options</td>\n      <td>BANKNIFTY</td>\n      <td>18-Feb-2021</td>\n      <td>Put</td>\n      <td>37,500.00</td>\n      <td>407.50</td>\n      <td>-116.30</td>\n      <td>-22.20</td>\n      <td>1,00,171</td>\n      <td>10,143.00</td>\n      <td>19,417</td>\n      <td>37,531.95</td>\n    </tr>\n    <tr>\n      <th>9</th>\n      <td>Index Options</td>\n      <td>NIFTY</td>\n      <td>18-Feb-2021</td>\n      <td>Put</td>\n      <td>15,300.00</td>\n      <td>51.50</td>\n      <td>-32.30</td>\n      <td>-38.54</td>\n      <td>91,066</td>\n      <td>3,653.53</td>\n      <td>33,115</td>\n      <td>15,413.40</td>\n    </tr>\n    <tr>\n      <th>10</th>\n      <td>Index Options</td>\n      <td>BANKNIFTY</td>\n      <td>18-Feb-2021</td>\n      <td>Put</td>\n      <td>36,500.00</td>\n      <td>111.80</td>\n      <td>-60.55</td>\n      <td>-35.13</td>\n      <td>90,389</td>\n      <td>2,489.13</td>\n      <td>35,100</td>\n      <td>37,531.95</td>\n    </tr>\n    <tr>\n      <th>11</th>\n      <td>Index Options</td>\n      <td>BANKNIFTY</td>\n      <td>18-Feb-2021</td>\n      <td>Call</td>\n      <td>37,700.00</td>\n      <td>343.05</td>\n      <td>63.55</td>\n      <td>22.74</td>\n      <td>83,936</td>\n      <td>9,455.17</td>\n      <td>15,721</td>\n      <td>37,531.95</td>\n    </tr>\n    <tr>\n      <th>12</th>\n      <td>Index Options</td>\n      <td>BANKNIFTY</td>\n      <td>18-Feb-2021</td>\n      <td>Call</td>\n      <td>37,600.00</td>\n      <td>385.55</td>\n      <td>55.35</td>\n      <td>16.76</td>\n      <td>82,612</td>\n      <td>10,410.21</td>\n      <td>13,301</td>\n      <td>37,531.95</td>\n    </tr>\n    <tr>\n      <th>13</th>\n      <td>Index Options</td>\n      <td>NIFTY</td>\n      <td>18-Feb-2021</td>\n      <td>Put</td>\n      <td>15,400.00</td>\n      <td>86.00</td>\n      <td>-48.55</td>\n      <td>-36.08</td>\n      <td>81,506</td>\n      <td>5,418.85</td>\n      <td>24,632</td>\n      <td>15,413.40</td>\n    </tr>\n    <tr>\n      <th>14</th>\n      <td>Index Options</td>\n      <td>NIFTY</td>\n      <td>18-Feb-2021</td>\n      <td>Call</td>\n      <td>15,600.00</td>\n      <td>18.75</td>\n      <td>6.65</td>\n      <td>54.96</td>\n      <td>80,684</td>\n      <td>1,211.83</td>\n      <td>35,083</td>\n      <td>15,413.40</td>\n    </tr>\n    <tr>\n      <th>15</th>\n      <td>Index Options</td>\n      <td>BANKNIFTY</td>\n      <td>18-Feb-2021</td>\n      <td>Put</td>\n      <td>36,000.00</td>\n      <td>57.40</td>\n      <td>-34.35</td>\n      <td>-37.44</td>\n      <td>80,496</td>\n      <td>1,104.56</td>\n      <td>40,227</td>\n      <td>37,531.95</td>\n    </tr>\n    <tr>\n      <th>16</th>\n      <td>Index Options</td>\n      <td>BANKNIFTY</td>\n      <td>18-Feb-2021</td>\n      <td>Call</td>\n      <td>37,800.00</td>\n      <td>298.40</td>\n      <td>46.90</td>\n      <td>18.65</td>\n      <td>71,876</td>\n      <td>7,292.99</td>\n      <td>13,467</td>\n      <td>37,531.95</td>\n    </tr>\n    <tr>\n      <th>17</th>\n      <td>Index Options</td>\n      <td>BANKNIFTY</td>\n      <td>18-Feb-2021</td>\n      <td>Put</td>\n      <td>35,500.00</td>\n      <td>32.20</td>\n      <td>-19.20</td>\n      <td>-37.35</td>\n      <td>67,267</td>\n      <td>516.76</td>\n      <td>30,278</td>\n      <td>37,531.95</td>\n    </tr>\n    <tr>\n      <th>18</th>\n      <td>Index Options</td>\n      <td>NIFTY</td>\n      <td>18-Feb-2021</td>\n      <td>Put</td>\n      <td>15,200.00</td>\n      <td>31.25</td>\n      <td>-19.30</td>\n      <td>-38.18</td>\n      <td>63,628</td>\n      <td>1,512.62</td>\n      <td>38,548</td>\n      <td>15,413.40</td>\n    </tr>\n    <tr>\n      <th>19</th>\n      <td>Index Options</td>\n      <td>NIFTY</td>\n      <td>18-Feb-2021</td>\n      <td>Call</td>\n      <td>15,700.00</td>\n      <td>6.15</td>\n      <td>1.60</td>\n      <td>35.16</td>\n      <td>58,513</td>\n      <td>290.54</td>\n      <td>29,112</td>\n      <td>15,413.40</td>\n    </tr>\n    <tr>\n      <th>20</th>\n      <td>Index Options</td>\n      <td>NIFTY</td>\n      <td>18-Feb-2021</td>\n      <td>Call</td>\n      <td>15,300.00</td>\n      <td>161.00</td>\n      <td>51.45</td>\n      <td>46.96</td>\n      <td>55,959</td>\n      <td>6,664.63</td>\n      <td>17,953</td>\n      <td>15,413.40</td>\n    </tr>\n  </tbody>\n</table>\n</div>"
     },
     "metadata": {},
     "execution_count": 27
    }
   ],
   "source": [
    "l = []\n",
    "\n",
    "for tr in table_rows:\n",
    "    td = tr.find_all('td')\n",
    "    row = [tr.text for tr in td]\n",
    "    l.append(row)\n",
    "    \n",
    "    \n",
    "# Creating the table using pandas\n",
    "equity_derivatives_table = pd.DataFrame(l, columns=[\"InstrumentType\",\"Symbol\",\"ExpiryDate\",\"OptionType\",\n",
    "                                 \"Strike Price\",\"LastPrice\",\"Chng\",\"%Chng\",\"Volume (Contracts\",\"Value (lakh)\",\n",
    "                                 \"OpenInterest\",\"Underlying Value\"])\n",
    "\n",
    "equity_derivatives_table = equity_derivatives_table.drop([0], axis=0)\n",
    "\n",
    "equity_derivatives_table"
   ]
  },
  {
   "cell_type": "markdown",
   "metadata": {},
   "source": [
    "### Exporting table into CSV"
   ]
  },
  {
   "cell_type": "code",
   "execution_count": 28,
   "metadata": {},
   "outputs": [],
   "source": [
    "equity_derivatives_table.to_csv(\"Equity Derivatives Watch Table from NSE.csv\", index=0)"
   ]
  },
  {
   "cell_type": "markdown",
   "metadata": {},
   "source": [
    "There is an alternate (and easier) way to get the data using the request library and the final url of the table and then using pandas but I wanted to make use of selenium package."
   ]
  },
  {
   "cell_type": "markdown",
   "metadata": {},
   "source": [
    "Author: Amandeep Saluja"
   ]
  }
 ],
 "metadata": {
  "kernelspec": {
   "display_name": "Python 3",
   "language": "python",
   "name": "python3"
  },
  "language_info": {
   "codemirror_mode": {
    "name": "ipython",
    "version": 3
   },
   "file_extension": ".py",
   "mimetype": "text/x-python",
   "name": "python",
   "nbconvert_exporter": "python",
   "pygments_lexer": "ipython3",
   "version": "3.8.5-final"
  }
 },
 "nbformat": 4,
 "nbformat_minor": 2
}