{
 "cells": [
  {
   "cell_type": "markdown",
   "metadata": {},
   "source": [
    "# Getting Equity Derivatives Watch table from NSE India using Selenium and BeautifulSoup\n",
    "\n",
    "The goal of this project is to automate the process of exporting Equity Derivatives Watch table from NSE into excel/CSV. To do this, we will be using selenium and BeautifulSoup. The process is as follows:\n",
    "1. Use Selenium to visit NSE website and hover over the Live Market section. Then click on \"Equity Derivates\" option to see the table.\n",
    "2. Use BeautifulSoup to extract the table contents.\n",
    "3. Use Pandas to convert the contents of the table into a data frame.\n",
    "4. Export the final table into CSV.\n",
    "\n",
    "Desired Result:"
   ]
  },
  {
   "source": [
    "[![NSE-Table.png](https://i.postimg.cc/D0RP45SF/NSE-Table.png)](https://postimg.cc/H84yfw0P)"
   ],
   "cell_type": "markdown",
   "metadata": {}
  },
  {
   "cell_type": "markdown",
   "metadata": {},
   "source": [
    "### Importing necessary packages"
   ]
  },
  {
   "cell_type": "code",
   "execution_count": 23,
   "metadata": {},
   "outputs": [],
   "source": [
    "import pandas as pd\n",
    "\n",
    "from bs4 import BeautifulSoup\n",
    "from selenium import webdriver\n",
    "from selenium.webdriver.common.action_chains import ActionChains"
   ]
  },
  {
   "cell_type": "markdown",
   "metadata": {},
   "source": [
    "### Visiting NSE website"
   ]
  },
  {
   "cell_type": "code",
   "execution_count": 24,
   "metadata": {},
   "outputs": [],
   "source": [
    "url = \"https://www.nseindia.com/\"\n",
    "\n",
    "#Set below Chrome options to prevent bot detection. For ChromeDriver version 79.0.3945.16 or over\n",
    "option = webdriver.ChromeOptions()\n",
    "option.add_argument('--disable-blink-features=AutomationControlled')\n",
    "option.add_argument(\"window-size=1280,800\")\n",
    "option.add_argument(\"user-agent=Mozilla/5.0 (Windows NT 10.0; Win64; x64) AppleWebKit/537.36 (KHTML, like Gecko) Chrome/88.0.4324.150 Safari/537.36\")\n",
    "\n",
    "driver = webdriver.Chrome(options=option)\n",
    "driver.get(url)\n",
    "import time\n",
    "time.sleep(5)"
   ]
  },
  {
   "cell_type": "markdown",
   "metadata": {},
   "source": [
    "### Hover over the Live Market section on NSE website"
   ]
  },
  {
   "cell_type": "code",
   "execution_count": 25,
   "metadata": {},
   "outputs": [],
   "source": [
    "action = ActionChains(driver)\n",
    "\n",
    "live_market_section = driver.find_element_by_link_text('MARKET DATA')\n",
    "action.move_to_element(live_market_section).perform()"
   ]
  },
  {
   "cell_type": "markdown",
   "metadata": {},
   "source": [
    "### Clicking on Equity Derivates option under Live Market"
   ]
  },
  {
   "cell_type": "code",
   "execution_count": 26,
   "metadata": {},
   "outputs": [],
   "source": [
    "equity_derivatives = driver.find_element_by_link_text('Derivatives Market')\n",
    "equity_derivatives.click()\n",
    "time.sleep(7)"
   ]
  },
  {
   "cell_type": "markdown",
   "metadata": {},
   "source": [
    "### Pushing HTML into BeautifulSoup"
   ]
  },
  {
   "cell_type": "code",
   "execution_count": 27,
   "metadata": {},
   "outputs": [],
   "source": [
    "html = driver.page_source\n",
    "soup = BeautifulSoup(html,'html.parser')\n",
    "#soup = BeautifulSoup(html,'lxml')\n",
    "#time.sleep(7)"
   ]
  },
  {
   "cell_type": "markdown",
   "metadata": {},
   "source": [
    "### Finding our table on the page"
   ]
  },
  {
   "cell_type": "code",
   "execution_count": 28,
   "metadata": {},
   "outputs": [],
   "source": [
    "result = soup.find('table',{'id': 'eqderivativesTable'})\n",
    "table_rows = result.find_all('tr')"
   ]
  },
  {
   "cell_type": "markdown",
   "metadata": {},
   "source": [
    "### Converting data into a Table using pandas "
   ]
  },
  {
   "cell_type": "code",
   "execution_count": 29,
   "metadata": {},
   "outputs": [
    {
     "output_type": "execute_result",
     "data": {
      "text/plain": [
       "   InstrumentType     Symbol   ExpiryDate OptionType Strike Price LastPrice  \\\n",
       "1   Index Options  BANKNIFTY  18-Feb-2021       Call    38,000.00    212.35   \n",
       "2   Index Options  BANKNIFTY  18-Feb-2021        Put    37,000.00    221.65   \n",
       "3   Index Options  BANKNIFTY  18-Feb-2021       Call    37,500.00    409.35   \n",
       "4   Index Options  BANKNIFTY  18-Feb-2021        Put    36,500.00    106.65   \n",
       "5   Index Options  BANKNIFTY  18-Feb-2021       Call    38,500.00    101.00   \n",
       "6   Index Options  BANKNIFTY  18-Feb-2021       Call    39,000.00     47.95   \n",
       "7   Index Options  BANKNIFTY  18-Feb-2021        Put    37,500.00    428.95   \n",
       "8   Index Options      NIFTY  18-Feb-2021       Call    15,400.00     94.45   \n",
       "9   Index Options  BANKNIFTY  18-Feb-2021        Put    36,000.00     52.00   \n",
       "10  Index Options      NIFTY  18-Feb-2021       Call    15,500.00     46.80   \n",
       "11  Index Options      NIFTY  18-Feb-2021        Put    15,300.00     47.45   \n",
       "12  Index Options  BANKNIFTY  18-Feb-2021       Call    37,600.00    363.00   \n",
       "13  Index Options      NIFTY  18-Feb-2021        Put    15,400.00     81.90   \n",
       "14  Index Options  BANKNIFTY  18-Feb-2021       Call    37,700.00    318.85   \n",
       "15  Index Options  BANKNIFTY  18-Feb-2021       Call    37,800.00    281.05   \n",
       "16  Index Options  BANKNIFTY  18-Feb-2021        Put    37,300.00    333.05   \n",
       "17  Index Options  BANKNIFTY  18-Feb-2021        Put    35,000.00     18.70   \n",
       "18  Index Options      NIFTY  18-Feb-2021       Call    15,600.00     18.70   \n",
       "19  Index Options  BANKNIFTY  18-Feb-2021        Put    35,500.00     28.60   \n",
       "20  Index Options      NIFTY  18-Feb-2021        Put    15,200.00     27.40   \n",
       "\n",
       "       Chng   %Chng Volume (Contracts) Value (lakh) OpenInterest  \\\n",
       "1     15.35    7.79           4,68,782    29,372.10       52,686   \n",
       "2    -92.85  -29.52           4,62,049    31,524.51       40,558   \n",
       "3     37.00    9.94           3,14,722    35,655.01       42,272   \n",
       "4    -65.70  -38.12           2,86,343    10,113.52       41,178   \n",
       "5      7.40    7.91           2,61,401     8,474.72       34,607   \n",
       "6     -0.60   -1.24           2,56,489     4,147.58       30,804   \n",
       "7    -94.85  -18.11           2,32,053    26,945.40       16,993   \n",
       "8     33.15   54.08           2,23,163    15,518.47       40,320   \n",
       "9    -39.75  -43.32           2,01,701     3,502.01       41,445   \n",
       "10    17.55   60.00           1,95,114     6,804.13       38,341   \n",
       "11   -36.35  -43.38           1,77,970     7,249.19       36,458   \n",
       "12    32.80    9.93           1,70,308    17,734.79       15,569   \n",
       "13   -52.65  -39.13           1,69,460    11,494.02       26,262   \n",
       "14    39.35   14.08           1,68,404    15,574.28       17,454   \n",
       "15    29.55   11.75           1,58,163    12,814.01       16,066   \n",
       "16  -101.05  -23.28           1,51,194    14,910.21       12,796   \n",
       "17   -13.00  -41.01           1,46,208       821.82       37,345   \n",
       "18     6.60   54.55           1,43,139     1,994.39       36,983   \n",
       "19   -22.80  -44.36           1,41,849     1,289.91       31,069   \n",
       "20   -23.15  -45.80           1,23,684     2,985.58       39,505   \n",
       "\n",
       "   Underlying Value  \n",
       "1         37,422.60  \n",
       "2         37,422.60  \n",
       "3         37,422.60  \n",
       "4         37,422.60  \n",
       "5         37,422.60  \n",
       "6         37,422.60  \n",
       "7         37,422.60  \n",
       "8         15,407.55  \n",
       "9         37,422.60  \n",
       "10        15,407.55  \n",
       "11        15,407.55  \n",
       "12        37,422.60  \n",
       "13        15,407.55  \n",
       "14        37,422.60  \n",
       "15        37,422.60  \n",
       "16        37,422.60  \n",
       "17        37,422.60  \n",
       "18        15,407.55  \n",
       "19        37,422.60  \n",
       "20        15,407.55  "
      ],
      "text/html": "<div>\n<style scoped>\n    .dataframe tbody tr th:only-of-type {\n        vertical-align: middle;\n    }\n\n    .dataframe tbody tr th {\n        vertical-align: top;\n    }\n\n    .dataframe thead th {\n        text-align: right;\n    }\n</style>\n<table border=\"1\" class=\"dataframe\">\n  <thead>\n    <tr style=\"text-align: right;\">\n      <th></th>\n      <th>InstrumentType</th>\n      <th>Symbol</th>\n      <th>ExpiryDate</th>\n      <th>OptionType</th>\n      <th>Strike Price</th>\n      <th>LastPrice</th>\n      <th>Chng</th>\n      <th>%Chng</th>\n      <th>Volume (Contracts)</th>\n      <th>Value (lakh)</th>\n      <th>OpenInterest</th>\n      <th>Underlying Value</th>\n    </tr>\n  </thead>\n  <tbody>\n    <tr>\n      <th>1</th>\n      <td>Index Options</td>\n      <td>BANKNIFTY</td>\n      <td>18-Feb-2021</td>\n      <td>Call</td>\n      <td>38,000.00</td>\n      <td>212.35</td>\n      <td>15.35</td>\n      <td>7.79</td>\n      <td>4,68,782</td>\n      <td>29,372.10</td>\n      <td>52,686</td>\n      <td>37,422.60</td>\n    </tr>\n    <tr>\n      <th>2</th>\n      <td>Index Options</td>\n      <td>BANKNIFTY</td>\n      <td>18-Feb-2021</td>\n      <td>Put</td>\n      <td>37,000.00</td>\n      <td>221.65</td>\n      <td>-92.85</td>\n      <td>-29.52</td>\n      <td>4,62,049</td>\n      <td>31,524.51</td>\n      <td>40,558</td>\n      <td>37,422.60</td>\n    </tr>\n    <tr>\n      <th>3</th>\n      <td>Index Options</td>\n      <td>BANKNIFTY</td>\n      <td>18-Feb-2021</td>\n      <td>Call</td>\n      <td>37,500.00</td>\n      <td>409.35</td>\n      <td>37.00</td>\n      <td>9.94</td>\n      <td>3,14,722</td>\n      <td>35,655.01</td>\n      <td>42,272</td>\n      <td>37,422.60</td>\n    </tr>\n    <tr>\n      <th>4</th>\n      <td>Index Options</td>\n      <td>BANKNIFTY</td>\n      <td>18-Feb-2021</td>\n      <td>Put</td>\n      <td>36,500.00</td>\n      <td>106.65</td>\n      <td>-65.70</td>\n      <td>-38.12</td>\n      <td>2,86,343</td>\n      <td>10,113.52</td>\n      <td>41,178</td>\n      <td>37,422.60</td>\n    </tr>\n    <tr>\n      <th>5</th>\n      <td>Index Options</td>\n      <td>BANKNIFTY</td>\n      <td>18-Feb-2021</td>\n      <td>Call</td>\n      <td>38,500.00</td>\n      <td>101.00</td>\n      <td>7.40</td>\n      <td>7.91</td>\n      <td>2,61,401</td>\n      <td>8,474.72</td>\n      <td>34,607</td>\n      <td>37,422.60</td>\n    </tr>\n    <tr>\n      <th>6</th>\n      <td>Index Options</td>\n      <td>BANKNIFTY</td>\n      <td>18-Feb-2021</td>\n      <td>Call</td>\n      <td>39,000.00</td>\n      <td>47.95</td>\n      <td>-0.60</td>\n      <td>-1.24</td>\n      <td>2,56,489</td>\n      <td>4,147.58</td>\n      <td>30,804</td>\n      <td>37,422.60</td>\n    </tr>\n    <tr>\n      <th>7</th>\n      <td>Index Options</td>\n      <td>BANKNIFTY</td>\n      <td>18-Feb-2021</td>\n      <td>Put</td>\n      <td>37,500.00</td>\n      <td>428.95</td>\n      <td>-94.85</td>\n      <td>-18.11</td>\n      <td>2,32,053</td>\n      <td>26,945.40</td>\n      <td>16,993</td>\n      <td>37,422.60</td>\n    </tr>\n    <tr>\n      <th>8</th>\n      <td>Index Options</td>\n      <td>NIFTY</td>\n      <td>18-Feb-2021</td>\n      <td>Call</td>\n      <td>15,400.00</td>\n      <td>94.45</td>\n      <td>33.15</td>\n      <td>54.08</td>\n      <td>2,23,163</td>\n      <td>15,518.47</td>\n      <td>40,320</td>\n      <td>15,407.55</td>\n    </tr>\n    <tr>\n      <th>9</th>\n      <td>Index Options</td>\n      <td>BANKNIFTY</td>\n      <td>18-Feb-2021</td>\n      <td>Put</td>\n      <td>36,000.00</td>\n      <td>52.00</td>\n      <td>-39.75</td>\n      <td>-43.32</td>\n      <td>2,01,701</td>\n      <td>3,502.01</td>\n      <td>41,445</td>\n      <td>37,422.60</td>\n    </tr>\n    <tr>\n      <th>10</th>\n      <td>Index Options</td>\n      <td>NIFTY</td>\n      <td>18-Feb-2021</td>\n      <td>Call</td>\n      <td>15,500.00</td>\n      <td>46.80</td>\n      <td>17.55</td>\n      <td>60.00</td>\n      <td>1,95,114</td>\n      <td>6,804.13</td>\n      <td>38,341</td>\n      <td>15,407.55</td>\n    </tr>\n    <tr>\n      <th>11</th>\n      <td>Index Options</td>\n      <td>NIFTY</td>\n      <td>18-Feb-2021</td>\n      <td>Put</td>\n      <td>15,300.00</td>\n      <td>47.45</td>\n      <td>-36.35</td>\n      <td>-43.38</td>\n      <td>1,77,970</td>\n      <td>7,249.19</td>\n      <td>36,458</td>\n      <td>15,407.55</td>\n    </tr>\n    <tr>\n      <th>12</th>\n      <td>Index Options</td>\n      <td>BANKNIFTY</td>\n      <td>18-Feb-2021</td>\n      <td>Call</td>\n      <td>37,600.00</td>\n      <td>363.00</td>\n      <td>32.80</td>\n      <td>9.93</td>\n      <td>1,70,308</td>\n      <td>17,734.79</td>\n      <td>15,569</td>\n      <td>37,422.60</td>\n    </tr>\n    <tr>\n      <th>13</th>\n      <td>Index Options</td>\n      <td>NIFTY</td>\n      <td>18-Feb-2021</td>\n      <td>Put</td>\n      <td>15,400.00</td>\n      <td>81.90</td>\n      <td>-52.65</td>\n      <td>-39.13</td>\n      <td>1,69,460</td>\n      <td>11,494.02</td>\n      <td>26,262</td>\n      <td>15,407.55</td>\n    </tr>\n    <tr>\n      <th>14</th>\n      <td>Index Options</td>\n      <td>BANKNIFTY</td>\n      <td>18-Feb-2021</td>\n      <td>Call</td>\n      <td>37,700.00</td>\n      <td>318.85</td>\n      <td>39.35</td>\n      <td>14.08</td>\n      <td>1,68,404</td>\n      <td>15,574.28</td>\n      <td>17,454</td>\n      <td>37,422.60</td>\n    </tr>\n    <tr>\n      <th>15</th>\n      <td>Index Options</td>\n      <td>BANKNIFTY</td>\n      <td>18-Feb-2021</td>\n      <td>Call</td>\n      <td>37,800.00</td>\n      <td>281.05</td>\n      <td>29.55</td>\n      <td>11.75</td>\n      <td>1,58,163</td>\n      <td>12,814.01</td>\n      <td>16,066</td>\n      <td>37,422.60</td>\n    </tr>\n    <tr>\n      <th>16</th>\n      <td>Index Options</td>\n      <td>BANKNIFTY</td>\n      <td>18-Feb-2021</td>\n      <td>Put</td>\n      <td>37,300.00</td>\n      <td>333.05</td>\n      <td>-101.05</td>\n      <td>-23.28</td>\n      <td>1,51,194</td>\n      <td>14,910.21</td>\n      <td>12,796</td>\n      <td>37,422.60</td>\n    </tr>\n    <tr>\n      <th>17</th>\n      <td>Index Options</td>\n      <td>BANKNIFTY</td>\n      <td>18-Feb-2021</td>\n      <td>Put</td>\n      <td>35,000.00</td>\n      <td>18.70</td>\n      <td>-13.00</td>\n      <td>-41.01</td>\n      <td>1,46,208</td>\n      <td>821.82</td>\n      <td>37,345</td>\n      <td>37,422.60</td>\n    </tr>\n    <tr>\n      <th>18</th>\n      <td>Index Options</td>\n      <td>NIFTY</td>\n      <td>18-Feb-2021</td>\n      <td>Call</td>\n      <td>15,600.00</td>\n      <td>18.70</td>\n      <td>6.60</td>\n      <td>54.55</td>\n      <td>1,43,139</td>\n      <td>1,994.39</td>\n      <td>36,983</td>\n      <td>15,407.55</td>\n    </tr>\n    <tr>\n      <th>19</th>\n      <td>Index Options</td>\n      <td>BANKNIFTY</td>\n      <td>18-Feb-2021</td>\n      <td>Put</td>\n      <td>35,500.00</td>\n      <td>28.60</td>\n      <td>-22.80</td>\n      <td>-44.36</td>\n      <td>1,41,849</td>\n      <td>1,289.91</td>\n      <td>31,069</td>\n      <td>37,422.60</td>\n    </tr>\n    <tr>\n      <th>20</th>\n      <td>Index Options</td>\n      <td>NIFTY</td>\n      <td>18-Feb-2021</td>\n      <td>Put</td>\n      <td>15,200.00</td>\n      <td>27.40</td>\n      <td>-23.15</td>\n      <td>-45.80</td>\n      <td>1,23,684</td>\n      <td>2,985.58</td>\n      <td>39,505</td>\n      <td>15,407.55</td>\n    </tr>\n  </tbody>\n</table>\n</div>"
     },
     "metadata": {},
     "execution_count": 29
    }
   ],
   "source": [
    "l = []\n",
    "\n",
    "for tr in table_rows:\n",
    "    td = tr.find_all('td')\n",
    "    row = [tr.text for tr in td]\n",
    "    l.append(row)\n",
    "    \n",
    "    \n",
    "# Creating the table using pandas\n",
    "equity_derivatives_table = pd.DataFrame(l, columns=[\"InstrumentType\",\"Symbol\",\"ExpiryDate\",\"OptionType\",\n",
    "                                 \"Strike Price\",\"LastPrice\",\"Chng\",\"%Chng\",\"Volume (Contracts)\",\"Value (lakh)\",\n",
    "                                 \"OpenInterest\",\"Underlying Value\"])\n",
    "\n",
    "equity_derivatives_table = equity_derivatives_table.drop([0], axis=0)\n",
    "\n",
    "equity_derivatives_table"
   ]
  },
  {
   "source": [
    "### Exporting table into CSV"
   ],
   "cell_type": "markdown",
   "metadata": {}
  },
  {
   "cell_type": "code",
   "execution_count": 30,
   "metadata": {},
   "outputs": [],
   "source": [
    "equity_derivatives_table.to_csv(\"Equity Derivatives Watch Table from NSE.csv\", index=0)"
   ]
  },
  {
   "source": [
    "There is an alternate (and easier) way to get the data using the request library and the final url of the table and then using pandas but I wanted to make use of selenium package."
   ],
   "cell_type": "markdown",
   "metadata": {}
  },
  {
   "source": [
    "### Close Chrome Browser"
   ],
   "cell_type": "markdown",
   "metadata": {}
  },
  {
   "cell_type": "code",
   "execution_count": 31,
   "metadata": {},
   "outputs": [],
   "source": [
    "driver.quit()"
   ]
  },
  {
   "cell_type": "markdown",
   "metadata": {},
   "source": [
    "Author: Amandeep Saluja"
   ]
  }
 ],
 "metadata": {
  "kernelspec": {
   "display_name": "Python 3",
   "language": "python",
   "name": "python3"
  },
  "language_info": {
   "codemirror_mode": {
    "name": "ipython",
    "version": 3
   },
   "file_extension": ".py",
   "mimetype": "text/x-python",
   "name": "python",
   "nbconvert_exporter": "python",
   "pygments_lexer": "ipython3",
   "version": "3.8.5-final"
  }
 },
 "nbformat": 4,
 "nbformat_minor": 2
}